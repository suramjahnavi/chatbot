{
 "cells": [
  {
   "cell_type": "code",
   "execution_count": 2,
   "id": "fe6e3b46-e57b-4f69-913d-16047b459478",
   "metadata": {},
   "outputs": [
    {
     "name": "stdout",
     "output_type": "stream",
     "text": [
      "🤖 Welcome to the GPREC Info Chatbot!\n",
      "Ask me anything about GPREC - admissions, courses, placements, etc.\n",
      "Type 'exit' to end the chat.\n",
      "\n"
     ]
    },
    {
     "name": "stdin",
     "output_type": "stream",
     "text": [
      "You:  hostel\n"
     ]
    },
    {
     "name": "stdout",
     "output_type": "stream",
     "text": [
      "Chatbot: Hostel facilities are available for both boys and girls with good food, 24/7 security, and Wi-Fi access.\n"
     ]
    },
    {
     "name": "stdin",
     "output_type": "stream",
     "text": [
      "You:  student exams\n"
     ]
    },
    {
     "name": "stdout",
     "output_type": "stream",
     "text": [
      "Chatbot: I'm sorry, I can only answer questions related to admissions, courses, campus, and similar topics.\n"
     ]
    },
    {
     "name": "stdin",
     "output_type": "stream",
     "text": [
      "You:  campus\n"
     ]
    },
    {
     "name": "stdout",
     "output_type": "stream",
     "text": [
      "Chatbot: The GPREC campus includes modern classrooms, labs, Wi-Fi, a central library, sports facilities, and hostels.\n"
     ]
    },
    {
     "name": "stdin",
     "output_type": "stream",
     "text": [
      "You:  courses\n"
     ]
    },
    {
     "name": "stdout",
     "output_type": "stream",
     "text": [
      "Chatbot: GPREC offers undergraduate and postgraduate courses in CSE, ECE, EEE, Mechanical, Civil, and IT branches.\n"
     ]
    },
    {
     "name": "stdin",
     "output_type": "stream",
     "text": [
      "You:  exit\n"
     ]
    },
    {
     "name": "stdout",
     "output_type": "stream",
     "text": [
      "Chatbot: Thanks for using the GPREC Chatbot! Have a great day! 👋\n"
     ]
    }
   ],
   "source": [
    "# GPREC Website Chatbot (Basic AI Chatbot)\n",
    "\n",
    "def gprec_chatbot():\n",
    "    print(\"🤖 Welcome to the GPREC Info Chatbot!\")\n",
    "    print(\"Ask me anything about GPREC - admissions, courses, placements, etc.\")\n",
    "    print(\"Type 'exit' to end the chat.\\n\")\n",
    "\n",
    "    responses = {\n",
    "        \"admission\": (\n",
    "            \"GPREC admissions are based on EAMCET/ECET scores. You can apply through the official website \"\n",
    "            \"or the APSCHE portal during the admission window.\"\n",
    "        ),\n",
    "        \"courses\": (\n",
    "            \"GPREC offers undergraduate and postgraduate courses in CSE, ECE, EEE, Mechanical, Civil, and IT branches.\"\n",
    "        ),\n",
    "        \"timetable\": (\n",
    "            \"The academic timetable is available on the student portal. Please login with your student credentials to view your schedule.\"\n",
    "        ),\n",
    "        \"campus\": (\n",
    "            \"The GPREC campus includes modern classrooms, labs, Wi-Fi, a central library, sports facilities, and hostels.\"\n",
    "        ),\n",
    "        \"contact\": (\n",
    "            \"You can contact GPREC at +91-8518-270957 or email info@gprec.ac.in. Visit www.gprec.ac.in for more details.\"\n",
    "        ),\n",
    "        \"placement\": (\n",
    "            \"GPREC has a strong placement cell. Companies like TCS, Infosys, Wipro, and Capgemini recruit regularly.\"\n",
    "        ),\n",
    "        \"hostel\": (\n",
    "            \"Hostel facilities are available for both boys and girls with good food, 24/7 security, and Wi-Fi access.\"\n",
    "        ),\n",
    "    }\n",
    "\n",
    "    while True:\n",
    "        user_input = input(\"You: \").lower()\n",
    "\n",
    "        if user_input == \"exit\":\n",
    "            print(\"Chatbot: Thanks for using the GPREC Chatbot! Have a great day! 👋\")\n",
    "            break\n",
    "\n",
    "        matched = False\n",
    "        for keyword in responses:\n",
    "            if keyword in user_input:\n",
    "                print(f\"Chatbot: {responses[keyword]}\")\n",
    "                matched = True\n",
    "                break\n",
    "\n",
    "        if not matched:\n",
    "            print(\"Chatbot: I'm sorry, I can only answer questions related to admissions, courses, campus, and similar topics.\")\n",
    "\n",
    "# Run the chatbot\n",
    "gprec_chatbot()\n"
   ]
  },
  {
   "cell_type": "code",
   "execution_count": null,
   "id": "0cdef025-e48e-46c6-b09d-9a4a6a6ffcde",
   "metadata": {},
   "outputs": [],
   "source": []
  }
 ],
 "metadata": {
  "kernelspec": {
   "display_name": "Python 3 (ipykernel)",
   "language": "python",
   "name": "python3"
  },
  "language_info": {
   "codemirror_mode": {
    "name": "ipython",
    "version": 3
   },
   "file_extension": ".py",
   "mimetype": "text/x-python",
   "name": "python",
   "nbconvert_exporter": "python",
   "pygments_lexer": "ipython3",
   "version": "3.12.4"
  }
 },
 "nbformat": 4,
 "nbformat_minor": 5
}
